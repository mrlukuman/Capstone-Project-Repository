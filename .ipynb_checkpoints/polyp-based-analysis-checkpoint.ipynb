{
 "cells": [
  {
   "cell_type": "code",
   "execution_count": 52,
   "id": "98d1cfde",
   "metadata": {},
   "outputs": [],
   "source": [
    "import matplotlib.pyplot as plt\n",
    "import pandas as pd\n",
    "import numpy as np"
   ]
  },
  {
   "cell_type": "code",
   "execution_count": 53,
   "id": "98f4539d",
   "metadata": {},
   "outputs": [
    {
     "data": {
      "text/html": [
       "<div>\n",
       "<style scoped>\n",
       "    .dataframe tbody tr th:only-of-type {\n",
       "        vertical-align: middle;\n",
       "    }\n",
       "\n",
       "    .dataframe tbody tr th {\n",
       "        vertical-align: top;\n",
       "    }\n",
       "\n",
       "    .dataframe thead th {\n",
       "        text-align: right;\n",
       "    }\n",
       "</style>\n",
       "<table border=\"1\" class=\"dataframe\">\n",
       "  <thead>\n",
       "    <tr style=\"text-align: right;\">\n",
       "      <th></th>\n",
       "      <th>ID</th>\n",
       "      <th>Patient</th>\n",
       "      <th>Polyp</th>\n",
       "      <th>Gender</th>\n",
       "      <th>Age</th>\n",
       "      <th>Anemia</th>\n",
       "      <th>Constipation</th>\n",
       "      <th>Location</th>\n",
       "      <th>Polyp Diameter (mm)</th>\n",
       "      <th>Unnamed: 9</th>\n",
       "      <th>Type</th>\n",
       "      <th>Subtype</th>\n",
       "    </tr>\n",
       "  </thead>\n",
       "  <tbody>\n",
       "    <tr>\n",
       "      <th>0</th>\n",
       "      <td>1</td>\n",
       "      <td>patient1</td>\n",
       "      <td>polyp1</td>\n",
       "      <td>M</td>\n",
       "      <td>53.0</td>\n",
       "      <td>0.0</td>\n",
       "      <td>1.0</td>\n",
       "      <td>descending</td>\n",
       "      <td>3.0</td>\n",
       "      <td>NaN</td>\n",
       "      <td>nonneoplastic</td>\n",
       "      <td>hyperplastic</td>\n",
       "    </tr>\n",
       "    <tr>\n",
       "      <th>1</th>\n",
       "      <td>1</td>\n",
       "      <td>patient1</td>\n",
       "      <td>polyp2</td>\n",
       "      <td>M</td>\n",
       "      <td>53.0</td>\n",
       "      <td>0.0</td>\n",
       "      <td>1.0</td>\n",
       "      <td>descending</td>\n",
       "      <td>3.0</td>\n",
       "      <td>NaN</td>\n",
       "      <td>nonneoplastic</td>\n",
       "      <td>hyperplastic</td>\n",
       "    </tr>\n",
       "    <tr>\n",
       "      <th>2</th>\n",
       "      <td>1</td>\n",
       "      <td>patient1</td>\n",
       "      <td>polyp3</td>\n",
       "      <td>M</td>\n",
       "      <td>53.0</td>\n",
       "      <td>0.0</td>\n",
       "      <td>1.0</td>\n",
       "      <td>descending</td>\n",
       "      <td>5.0</td>\n",
       "      <td>NaN</td>\n",
       "      <td>nonneoplastic</td>\n",
       "      <td>hyperplastic</td>\n",
       "    </tr>\n",
       "    <tr>\n",
       "      <th>3</th>\n",
       "      <td>2</td>\n",
       "      <td>patient2</td>\n",
       "      <td>polyp1</td>\n",
       "      <td>M</td>\n",
       "      <td>49.0</td>\n",
       "      <td>0.0</td>\n",
       "      <td>1.0</td>\n",
       "      <td>ascending</td>\n",
       "      <td>5.0</td>\n",
       "      <td>NaN</td>\n",
       "      <td>nonneoplastic</td>\n",
       "      <td>hyperplastic</td>\n",
       "    </tr>\n",
       "    <tr>\n",
       "      <th>4</th>\n",
       "      <td>2</td>\n",
       "      <td>patient2</td>\n",
       "      <td>polyp2</td>\n",
       "      <td>M</td>\n",
       "      <td>49.0</td>\n",
       "      <td>0.0</td>\n",
       "      <td>1.0</td>\n",
       "      <td>descending</td>\n",
       "      <td>7.0</td>\n",
       "      <td>NaN</td>\n",
       "      <td>neoplastic</td>\n",
       "      <td>villous</td>\n",
       "    </tr>\n",
       "    <tr>\n",
       "      <th>5</th>\n",
       "      <td>3</td>\n",
       "      <td>patient3</td>\n",
       "      <td>polyp1</td>\n",
       "      <td>M</td>\n",
       "      <td>70.0</td>\n",
       "      <td>0.0</td>\n",
       "      <td>1.0</td>\n",
       "      <td>ascending</td>\n",
       "      <td>5.0</td>\n",
       "      <td>NaN</td>\n",
       "      <td>nonneoplastic</td>\n",
       "      <td>Non-specific</td>\n",
       "    </tr>\n",
       "    <tr>\n",
       "      <th>6</th>\n",
       "      <td>4</td>\n",
       "      <td>patient4</td>\n",
       "      <td>polyp1</td>\n",
       "      <td>F</td>\n",
       "      <td>57.0</td>\n",
       "      <td>0.0</td>\n",
       "      <td>1.0</td>\n",
       "      <td>sigmoid</td>\n",
       "      <td>8.0</td>\n",
       "      <td>NaN</td>\n",
       "      <td>nonneoplastic</td>\n",
       "      <td>hyperplastic</td>\n",
       "    </tr>\n",
       "    <tr>\n",
       "      <th>7</th>\n",
       "      <td>5</td>\n",
       "      <td>patient5</td>\n",
       "      <td>polyp1</td>\n",
       "      <td>F</td>\n",
       "      <td>65.0</td>\n",
       "      <td>0.0</td>\n",
       "      <td>0.0</td>\n",
       "      <td>ascending</td>\n",
       "      <td>2.0</td>\n",
       "      <td>NaN</td>\n",
       "      <td>nonneoplastic</td>\n",
       "      <td>Non-specific</td>\n",
       "    </tr>\n",
       "    <tr>\n",
       "      <th>8</th>\n",
       "      <td>5</td>\n",
       "      <td>patient5</td>\n",
       "      <td>polyp2</td>\n",
       "      <td>F</td>\n",
       "      <td>65.0</td>\n",
       "      <td>0.0</td>\n",
       "      <td>0.0</td>\n",
       "      <td>ascending</td>\n",
       "      <td>2.0</td>\n",
       "      <td>NaN</td>\n",
       "      <td>nonneoplastic</td>\n",
       "      <td>Non-specific</td>\n",
       "    </tr>\n",
       "    <tr>\n",
       "      <th>9</th>\n",
       "      <td>5</td>\n",
       "      <td>patient5</td>\n",
       "      <td>polyp3</td>\n",
       "      <td>F</td>\n",
       "      <td>65.0</td>\n",
       "      <td>0.0</td>\n",
       "      <td>0.0</td>\n",
       "      <td>descending</td>\n",
       "      <td>2.0</td>\n",
       "      <td>NaN</td>\n",
       "      <td>nonneoplastic</td>\n",
       "      <td>hyperplastic</td>\n",
       "    </tr>\n",
       "  </tbody>\n",
       "</table>\n",
       "</div>"
      ],
      "text/plain": [
       "   ID   Patient   Polyp Gender   Age  Anemia  Constipation    Location  \\\n",
       "0   1  patient1  polyp1      M  53.0     0.0           1.0  descending   \n",
       "1   1  patient1  polyp2      M  53.0     0.0           1.0  descending   \n",
       "2   1  patient1  polyp3      M  53.0     0.0           1.0  descending   \n",
       "3   2  patient2  polyp1      M  49.0     0.0           1.0   ascending   \n",
       "4   2  patient2  polyp2      M  49.0     0.0           1.0  descending   \n",
       "5   3  patient3  polyp1      M  70.0     0.0           1.0   ascending   \n",
       "6   4  patient4  polyp1      F  57.0     0.0           1.0     sigmoid   \n",
       "7   5  patient5  polyp1      F  65.0     0.0           0.0   ascending   \n",
       "8   5  patient5  polyp2      F  65.0     0.0           0.0   ascending   \n",
       "9   5  patient5  polyp3      F  65.0     0.0           0.0  descending   \n",
       "\n",
       "   Polyp Diameter (mm)  Unnamed: 9           Type       Subtype  \n",
       "0                  3.0         NaN  nonneoplastic  hyperplastic  \n",
       "1                  3.0         NaN  nonneoplastic  hyperplastic  \n",
       "2                  5.0         NaN  nonneoplastic  hyperplastic  \n",
       "3                  5.0         NaN  nonneoplastic  hyperplastic  \n",
       "4                  7.0         NaN     neoplastic       villous  \n",
       "5                  5.0         NaN  nonneoplastic  Non-specific  \n",
       "6                  8.0         NaN  nonneoplastic  hyperplastic  \n",
       "7                  2.0         NaN  nonneoplastic  Non-specific  \n",
       "8                  2.0         NaN  nonneoplastic  Non-specific  \n",
       "9                  2.0         NaN  nonneoplastic  hyperplastic  "
      ]
     },
     "execution_count": 53,
     "metadata": {},
     "output_type": "execute_result"
    }
   ],
   "source": [
    "df = pd.read_csv(\"data.csv\")\n",
    "df.head(10)"
   ]
  },
  {
   "cell_type": "markdown",
   "id": "8460d70e",
   "metadata": {},
   "source": [
    "# Creating a Dataframe with Patient Related Data"
   ]
  },
  {
   "cell_type": "markdown",
   "id": "69c29030",
   "metadata": {},
   "source": [
    "## 1.1 Gender Distribution For all Patients\n",
    "\n",
    "*** Correlation between gender and types"
   ]
  },
  {
   "cell_type": "code",
   "execution_count": 54,
   "id": "7e5f2551",
   "metadata": {},
   "outputs": [
    {
     "data": {
      "text/html": [
       "<div>\n",
       "<style scoped>\n",
       "    .dataframe tbody tr th:only-of-type {\n",
       "        vertical-align: middle;\n",
       "    }\n",
       "\n",
       "    .dataframe tbody tr th {\n",
       "        vertical-align: top;\n",
       "    }\n",
       "\n",
       "    .dataframe thead th {\n",
       "        text-align: right;\n",
       "    }\n",
       "</style>\n",
       "<table border=\"1\" class=\"dataframe\">\n",
       "  <thead>\n",
       "    <tr style=\"text-align: right;\">\n",
       "      <th></th>\n",
       "      <th>Polyp</th>\n",
       "      <th>Gender</th>\n",
       "      <th>Location</th>\n",
       "      <th>Type</th>\n",
       "    </tr>\n",
       "  </thead>\n",
       "  <tbody>\n",
       "    <tr>\n",
       "      <th>0</th>\n",
       "      <td>polyp1</td>\n",
       "      <td>M</td>\n",
       "      <td>descending</td>\n",
       "      <td>nonneoplastic</td>\n",
       "    </tr>\n",
       "    <tr>\n",
       "      <th>1</th>\n",
       "      <td>polyp2</td>\n",
       "      <td>M</td>\n",
       "      <td>descending</td>\n",
       "      <td>nonneoplastic</td>\n",
       "    </tr>\n",
       "    <tr>\n",
       "      <th>2</th>\n",
       "      <td>polyp3</td>\n",
       "      <td>M</td>\n",
       "      <td>descending</td>\n",
       "      <td>nonneoplastic</td>\n",
       "    </tr>\n",
       "    <tr>\n",
       "      <th>3</th>\n",
       "      <td>polyp1</td>\n",
       "      <td>M</td>\n",
       "      <td>ascending</td>\n",
       "      <td>nonneoplastic</td>\n",
       "    </tr>\n",
       "    <tr>\n",
       "      <th>4</th>\n",
       "      <td>polyp2</td>\n",
       "      <td>M</td>\n",
       "      <td>descending</td>\n",
       "      <td>neoplastic</td>\n",
       "    </tr>\n",
       "  </tbody>\n",
       "</table>\n",
       "</div>"
      ],
      "text/plain": [
       "    Polyp Gender    Location           Type\n",
       "0  polyp1      M  descending  nonneoplastic\n",
       "1  polyp2      M  descending  nonneoplastic\n",
       "2  polyp3      M  descending  nonneoplastic\n",
       "3  polyp1      M   ascending  nonneoplastic\n",
       "4  polyp2      M  descending     neoplastic"
      ]
     },
     "execution_count": 54,
     "metadata": {},
     "output_type": "execute_result"
    }
   ],
   "source": [
    "df_Gender_data = df[[ \"Polyp\", \"Gender\", \"Location\", \"Type\"]]\n",
    "df_Gender_data.head(5)"
   ]
  },
  {
   "cell_type": "code",
   "execution_count": null,
   "id": "2ebc51b1",
   "metadata": {},
   "outputs": [],
   "source": []
  },
  {
   "cell_type": "code",
   "execution_count": 55,
   "id": "56e43c2a",
   "metadata": {},
   "outputs": [
    {
     "name": "stdout",
     "output_type": "stream",
     "text": [
      "M    241\n",
      "F    158\n",
      "Name: Gender, dtype: int64\n"
     ]
    },
    {
     "data": {
      "image/png": "[encoded data removed]",
      "text/plain": [
       "<Figure size 640x480 with 1 Axes>"
      ]
     },
     "metadata": {},
     "output_type": "display_data"
    }
   ],
   "source": [
    "Gender_counts = df_Gender_data[\"Gender\"].value_counts()\n",
    "print(Gender_counts)\n",
    "%matplotlib inline\n",
    "plot = Gender_counts.plot(kind='pie', explode= [0.1, 0], shadow= True, autopct='%1.1f%%')"
   ]
  },
  {
   "cell_type": "code",
   "execution_count": 56,
   "id": "af94b155",
   "metadata": {},
   "outputs": [
    {
     "name": "stdout",
     "output_type": "stream",
     "text": [
      "neoplastic       197\n",
      "nonneoplastic    114\n",
      "normal            74\n",
      "carcinom          14\n",
      "Name: Type, dtype: int64\n"
     ]
    },
    {
     "data": {
      "image/png": "[encoded data removed]",
      "text/plain": [
       "<Figure size 640x480 with 1 Axes>"
      ]
     },
     "metadata": {},
     "output_type": "display_data"
    }
   ],
   "source": [
    "Type_count = df_Gender_data[\"Type\"].value_counts()\n",
    "print(Type_count)\n",
    "%matplotlib inline\n",
    "plot = Type_count.plot(kind='bar')"
   ]
  },
  {
   "cell_type": "code",
   "execution_count": 70,
   "id": "c24244f1",
   "metadata": {},
   "outputs": [
    {
     "name": "stdout",
     "output_type": "stream",
     "text": [
      "tubular           152\n",
      "hyperplastic       76\n",
      "normal             72\n",
      "tubulovillous      33\n",
      "inflamation        18\n",
      "carcinom           17\n",
      "inflamatuar        15\n",
      "villous             8\n",
      "hamartomatosis      4\n",
      "Non-specific        3\n",
      "serrated            1\n",
      "Name: Subtype, dtype: int64\n"
     ]
    },
    {
     "data": {
      "image/png": "[encoded data removed]",
      "text/plain": [
       "<Figure size 640x480 with 1 Axes>"
      ]
     },
     "metadata": {},
     "output_type": "display_data"
    }
   ],
   "source": [
    "Subtype_count = df[\"Subtype\"].value_counts()\n",
    "print(Subtype_count)\n",
    "%matplotlib inline\n",
    "plot = Subtype_count.plot(kind='bar')\n",
    "\n"
   ]
  },
  {
   "cell_type": "code",
   "execution_count": 34,
   "id": "9d797686",
   "metadata": {},
   "outputs": [],
   "source": [
    "Genderlist = list(df.Gender)\n",
    "Type_list = list(df.Type)"
   ]
  },
  {
   "cell_type": "code",
   "execution_count": 48,
   "id": "889afb13",
   "metadata": {},
   "outputs": [],
   "source": [
    "Male_types = []\n",
    "female_types = []\n",
    "index = 0\n",
    "for i in Genderlist:\n",
    "    if i == \"M\":\n",
    "        Male_types.append(Type_list[index])\n",
    "    elif i == \"F\":\n",
    "        female_types.append(Type_list[index])\n",
    "        \n",
    "    index = index+1\n",
    "\n",
    "    \n",
    "            "
   ]
  },
  {
   "cell_type": "code",
   "execution_count": 50,
   "id": "39fbde35",
   "metadata": {},
   "outputs": [
    {
     "data": {
      "text/plain": [
       "(158, 241)"
      ]
     },
     "execution_count": 50,
     "metadata": {},
     "output_type": "execute_result"
    }
   ],
   "source": [
    "len(female_types), len(Male_types)"
   ]
  },
  {
   "cell_type": "code",
   "execution_count": 60,
   "id": "3b7cdbba",
   "metadata": {},
   "outputs": [],
   "source": [
    "def counttypes(lst, p_type):\n",
    "    return lst.count(p_type)\n",
    "\n",
    "Male_neoplastic = counttypes(Male_types, \"neoplastic\")\n",
    "Male_nonneoplastic = counttypes(Male_types, \"nonneoplastic\")\n",
    "Male_normal = counttypes(Male_types, \"normal\")\n",
    "Male_carcinom = counttypes(Male_types, 'carcinom')\n",
    "\n",
    "\n",
    "female_neoplastic = counttypes(female_types, \"neoplastic\")\n",
    "female_nonneoplastic = counttypes(female_types, \"nonneoplastic\")\n",
    "female_normal = counttypes(female_types, \"normal\")\n",
    "female_carcinom = counttypes(female_types, 'carcinom')\n",
    "\n",
    "\n"
   ]
  },
  {
   "cell_type": "code",
   "execution_count": 61,
   "id": "a470524d",
   "metadata": {},
   "outputs": [
    {
     "data": {
      "text/plain": [
       "(120, 66, 45, 10)"
      ]
     },
     "execution_count": 61,
     "metadata": {},
     "output_type": "execute_result"
    }
   ],
   "source": [
    "Male_neoplastic, Male_nonneoplastic, Male_normal, Male_carcinom"
   ]
  },
  {
   "cell_type": "code",
   "execution_count": 62,
   "id": "60ef251b",
   "metadata": {},
   "outputs": [
    {
     "data": {
      "text/plain": [
       "(77, 48, 29, 4)"
      ]
     },
     "execution_count": 62,
     "metadata": {},
     "output_type": "execute_result"
    }
   ],
   "source": [
    "female_neoplastic, female_nonneoplastic, female_normal, female_carcinom"
   ]
  },
  {
   "cell_type": "code",
   "execution_count": 75,
   "id": "79b90c43",
   "metadata": {},
   "outputs": [
    {
     "data": {
      "image/png": "[encoded data removed]",
      "text/plain": [
       "<Figure size 640x480 with 1 Axes>"
      ]
     },
     "metadata": {},
     "output_type": "display_data"
    }
   ],
   "source": [
    "N = 4\n",
    "male_data = (120, 66, 45, 10)\n",
    "female_data = (77, 48, 29, 4)\n",
    "\n",
    "ind = np.arange(N)  # the x locations for the groups\n",
    "width = 0.35       # the width of the bars\n",
    "\n",
    "fig, ax = plt.subplots()\n",
    "rects1 = ax.bar(ind, male_data, width, color='r')\n",
    "rects2 = ax.bar(ind + width, female_data, width, color='y')\n",
    "\n",
    "ax.set_ylabel('Number Of Polyp')\n",
    "ax.set_title('Gender vs Corresponding Polyp Type')\n",
    "ax.set_xticks(ind + width / 2)\n",
    "ax.set_xticklabels(('Neoplastic', 'Non-neoplastic', 'Normal', 'Carcinom'))\n",
    "\n",
    "ax.legend((rects1[0], rects2[0]), ('Male', 'Female'))\n",
    "\n",
    "def autolabel(rects):\n",
    "    \"\"\"\n",
    "    Attach a text label above each bar displaying its height\n",
    "    \"\"\"\n",
    "    for rect in rects:\n",
    "        height = rect.get_height()\n",
    "        ax.text(rect.get_x() + rect.get_width()/2., 1.05*height,\n",
    "                '%d' % int(height),\n",
    "                ha='center', va='bottom')\n",
    "\n",
    "autolabel(rects1)\n",
    "autolabel(rects2)\n",
    "\n",
    "plt.show()"
   ]
  },
  {
   "cell_type": "code",
   "execution_count": null,
   "id": "eb959148",
   "metadata": {},
   "outputs": [],
   "source": []
  }
 ],
 "metadata": {
  "kernelspec": {
   "display_name": "Python 3 (ipykernel)",
   "language": "python",
   "name": "python3"
  },
  "language_info": {
   "codemirror_mode": {
    "name": "ipython",
    "version": 3
   },
   "file_extension": ".py",
   "mimetype": "text/x-python",
   "name": "python",
   "nbconvert_exporter": "python",
   "pygments_lexer": "ipython3",
   "version": "3.10.6"
  }
 },
 "nbformat": 4,
 "nbformat_minor": 5
}
