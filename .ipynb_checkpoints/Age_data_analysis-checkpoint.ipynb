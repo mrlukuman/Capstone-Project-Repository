{
 "cells": [
  {
   "cell_type": "code",
   "execution_count": 1,
   "id": "e1961cf2",
   "metadata": {},
   "outputs": [],
   "source": [
    "import matplotlib.pyplot as plt\n",
    "import pandas as pd\n",
    "import numpy as np\n",
    "%matplotlib inline"
   ]
  },
  {
   "cell_type": "code",
   "execution_count": 35,
   "id": "a6626a22",
   "metadata": {},
   "outputs": [
    {
     "data": {
      "text/html": [
       "<div>\n",
       "<style scoped>\n",
       "    .dataframe tbody tr th:only-of-type {\n",
       "        vertical-align: middle;\n",
       "    }\n",
       "\n",
       "    .dataframe tbody tr th {\n",
       "        vertical-align: top;\n",
       "    }\n",
       "\n",
       "    .dataframe thead th {\n",
       "        text-align: right;\n",
       "    }\n",
       "</style>\n",
       "<table border=\"1\" class=\"dataframe\">\n",
       "  <thead>\n",
       "    <tr style=\"text-align: right;\">\n",
       "      <th></th>\n",
       "      <th>ID</th>\n",
       "      <th>Patient</th>\n",
       "      <th>Polyp</th>\n",
       "      <th>Gender</th>\n",
       "      <th>Age</th>\n",
       "      <th>Anemia</th>\n",
       "      <th>Constipation</th>\n",
       "      <th>Location</th>\n",
       "      <th>Polyp Diameter (mm)</th>\n",
       "      <th>Type</th>\n",
       "      <th>Subtype</th>\n",
       "    </tr>\n",
       "  </thead>\n",
       "  <tbody>\n",
       "    <tr>\n",
       "      <th>389</th>\n",
       "      <td>200</td>\n",
       "      <td>patient200</td>\n",
       "      <td>carcinom</td>\n",
       "      <td>M</td>\n",
       "      <td>49.0</td>\n",
       "      <td>0.0</td>\n",
       "      <td>1.0</td>\n",
       "      <td>descending</td>\n",
       "      <td>3.0</td>\n",
       "      <td>carcinom</td>\n",
       "      <td>carcinom</td>\n",
       "    </tr>\n",
       "    <tr>\n",
       "      <th>390</th>\n",
       "      <td>201</td>\n",
       "      <td>patient201</td>\n",
       "      <td>polyp1</td>\n",
       "      <td>M</td>\n",
       "      <td>75.0</td>\n",
       "      <td>0.0</td>\n",
       "      <td>1.0</td>\n",
       "      <td>descending</td>\n",
       "      <td>5.0</td>\n",
       "      <td>neoplastic</td>\n",
       "      <td>tubular</td>\n",
       "    </tr>\n",
       "    <tr>\n",
       "      <th>391</th>\n",
       "      <td>201</td>\n",
       "      <td>patient201</td>\n",
       "      <td>polyp2</td>\n",
       "      <td>M</td>\n",
       "      <td>75.0</td>\n",
       "      <td>0.0</td>\n",
       "      <td>1.0</td>\n",
       "      <td>descending</td>\n",
       "      <td>3.0</td>\n",
       "      <td>neoplastic</td>\n",
       "      <td>tubular</td>\n",
       "    </tr>\n",
       "    <tr>\n",
       "      <th>392</th>\n",
       "      <td>202</td>\n",
       "      <td>patient202</td>\n",
       "      <td>polyp1</td>\n",
       "      <td>M</td>\n",
       "      <td>64.0</td>\n",
       "      <td>0.0</td>\n",
       "      <td>1.0</td>\n",
       "      <td>rectosigmoid</td>\n",
       "      <td>2.0</td>\n",
       "      <td>neoplastic</td>\n",
       "      <td>tubular</td>\n",
       "    </tr>\n",
       "    <tr>\n",
       "      <th>393</th>\n",
       "      <td>203</td>\n",
       "      <td>patient203</td>\n",
       "      <td>carcinom</td>\n",
       "      <td>F</td>\n",
       "      <td>61.0</td>\n",
       "      <td>0.0</td>\n",
       "      <td>1.0</td>\n",
       "      <td>rectum</td>\n",
       "      <td>2.0</td>\n",
       "      <td>carcinom</td>\n",
       "      <td>carcinom</td>\n",
       "    </tr>\n",
       "    <tr>\n",
       "      <th>394</th>\n",
       "      <td>204</td>\n",
       "      <td>patient204</td>\n",
       "      <td>polyp1</td>\n",
       "      <td>M</td>\n",
       "      <td>0.0</td>\n",
       "      <td>0.0</td>\n",
       "      <td>1.0</td>\n",
       "      <td>descending</td>\n",
       "      <td>0.0</td>\n",
       "      <td>neoplastic</td>\n",
       "      <td>tubular</td>\n",
       "    </tr>\n",
       "    <tr>\n",
       "      <th>395</th>\n",
       "      <td>205</td>\n",
       "      <td>patient205</td>\n",
       "      <td>polyp1</td>\n",
       "      <td>M</td>\n",
       "      <td>62.0</td>\n",
       "      <td>0.0</td>\n",
       "      <td>1.0</td>\n",
       "      <td>descending</td>\n",
       "      <td>3.0</td>\n",
       "      <td>neoplastic</td>\n",
       "      <td>tubular</td>\n",
       "    </tr>\n",
       "    <tr>\n",
       "      <th>396</th>\n",
       "      <td>205</td>\n",
       "      <td>patient205</td>\n",
       "      <td>polyp2</td>\n",
       "      <td>M</td>\n",
       "      <td>62.0</td>\n",
       "      <td>0.0</td>\n",
       "      <td>1.0</td>\n",
       "      <td>descending</td>\n",
       "      <td>3.0</td>\n",
       "      <td>neoplastic</td>\n",
       "      <td>tubulovillous</td>\n",
       "    </tr>\n",
       "    <tr>\n",
       "      <th>397</th>\n",
       "      <td>205</td>\n",
       "      <td>patient205</td>\n",
       "      <td>polyp3</td>\n",
       "      <td>M</td>\n",
       "      <td>62.0</td>\n",
       "      <td>0.0</td>\n",
       "      <td>1.0</td>\n",
       "      <td>hepatik fleksura</td>\n",
       "      <td>2.0</td>\n",
       "      <td>neoplastic</td>\n",
       "      <td>tubular</td>\n",
       "    </tr>\n",
       "    <tr>\n",
       "      <th>398</th>\n",
       "      <td>205</td>\n",
       "      <td>patient205</td>\n",
       "      <td>polyp4</td>\n",
       "      <td>M</td>\n",
       "      <td>62.0</td>\n",
       "      <td>0.0</td>\n",
       "      <td>1.0</td>\n",
       "      <td>hepatik fleksura</td>\n",
       "      <td>2.0</td>\n",
       "      <td>neoplastic</td>\n",
       "      <td>tubular</td>\n",
       "    </tr>\n",
       "  </tbody>\n",
       "</table>\n",
       "</div>"
      ],
      "text/plain": [
       "      ID     Patient     Polyp Gender   Age  Anemia  Constipation  \\\n",
       "389  200  patient200  carcinom      M  49.0     0.0           1.0   \n",
       "390  201  patient201    polyp1      M  75.0     0.0           1.0   \n",
       "391  201  patient201    polyp2      M  75.0     0.0           1.0   \n",
       "392  202  patient202    polyp1      M  64.0     0.0           1.0   \n",
       "393  203  patient203  carcinom      F  61.0     0.0           1.0   \n",
       "394  204  patient204    polyp1      M   0.0     0.0           1.0   \n",
       "395  205  patient205    polyp1      M  62.0     0.0           1.0   \n",
       "396  205  patient205    polyp2      M  62.0     0.0           1.0   \n",
       "397  205  patient205    polyp3      M  62.0     0.0           1.0   \n",
       "398  205  patient205    polyp4      M  62.0     0.0           1.0   \n",
       "\n",
       "             Location  Polyp Diameter (mm)        Type        Subtype  \n",
       "389        descending                  3.0    carcinom       carcinom  \n",
       "390        descending                  5.0  neoplastic        tubular  \n",
       "391        descending                  3.0  neoplastic        tubular  \n",
       "392      rectosigmoid                  2.0  neoplastic        tubular  \n",
       "393            rectum                  2.0    carcinom       carcinom  \n",
       "394        descending                  0.0  neoplastic        tubular  \n",
       "395        descending                  3.0  neoplastic        tubular  \n",
       "396        descending                  3.0  neoplastic  tubulovillous  \n",
       "397  hepatik fleksura                  2.0  neoplastic        tubular  \n",
       "398  hepatik fleksura                  2.0  neoplastic        tubular  "
      ]
     },
     "execution_count": 35,
     "metadata": {},
     "output_type": "execute_result"
    }
   ],
   "source": [
    "df = pd.read_csv(\"cleaned_data.csv\")\n",
    "df.tail(10)"
   ]
  },
  {
   "cell_type": "markdown",
   "id": "56154e8c",
   "metadata": {},
   "source": [
    "### Making Sure there is no NaN values"
   ]
  },
  {
   "cell_type": "code",
   "execution_count": 4,
   "id": "4acf71d0",
   "metadata": {},
   "outputs": [
    {
     "data": {
      "text/plain": [
       "ID                     0\n",
       "Patient                0\n",
       "Polyp                  0\n",
       "Gender                 0\n",
       "Age                    0\n",
       "Anemia                 0\n",
       "Constipation           0\n",
       "Location               0\n",
       "Polyp Diameter (mm)    0\n",
       "Type                   0\n",
       "Subtype                0\n",
       "dtype: int64"
      ]
     },
     "execution_count": 4,
     "metadata": {},
     "output_type": "execute_result"
    }
   ],
   "source": [
    "df.isna().sum()"
   ]
  },
  {
   "cell_type": "markdown",
   "id": "56942964",
   "metadata": {},
   "source": [
    "### 1.1 Age ranges vs Number of Polyps\n",
    "\n",
    "* 0 - 24  (Young)\n",
    "* 25 - 49 (Adult)\n",
    "* 50 - 74 (Old)\n",
    "* 75 and above (very_old)"
   ]
  },
  {
   "cell_type": "code",
   "execution_count": 13,
   "id": "a4af8b13",
   "metadata": {},
   "outputs": [
    {
     "data": {
      "text/plain": [
       "[3, 57, 278, 61]"
      ]
     },
     "execution_count": 13,
     "metadata": {},
     "output_type": "execute_result"
    }
   ],
   "source": [
    "## Work with ages and group them in the various categories\n",
    "\n",
    "Ages = list(df.Age)\n",
    "Ages[:10]\n",
    "young = []\n",
    "adult = []\n",
    "old = []\n",
    "very_old = []\n",
    "\n",
    "for age in Ages:\n",
    "    if age < 25:\n",
    "        young.append(age)\n",
    "    elif age >= 25 and age < 50:\n",
    "        adult.append(age)\n",
    "    elif age >= 50 and age < 75:\n",
    "        old.append(age)\n",
    "    else:\n",
    "        very_old.append(age)\n",
    "        \n",
    "\n",
    "polyp_number = [len(young), len(adult), len(old), len(very_old)]\n",
    "\n",
    "polyp_number\n",
    "    "
   ]
  },
  {
   "cell_type": "code",
   "execution_count": 143,
   "id": "ee3687d1",
   "metadata": {},
   "outputs": [
    {
     "data": {
      "image/png": "[encoded data removed]",
      "text/plain": [
       "<Figure size 1000x500 with 1 Axes>"
      ]
     },
     "metadata": {},
     "output_type": "display_data"
    }
   ],
   "source": [
    "plt.rcdefaults()\n",
    "fig, ax = plt.subplots(figsize=(10, 5))\n",
    "\n",
    "\n",
    "age_groups = ('Young', 'Adult', 'Old', 'Very Old')\n",
    "groups = list(age_groups)\n",
    "polyp_counts = [3, 57, 278, 61]\n",
    "colors = (\"blue\", \"cyan\", \"red\", \"orange\")\n",
    "hb1 = ax.barh(age_groups, polyp_counts, color=colors )\n",
    "ax.set_xlabel('Number of Polyps')\n",
    "ax.set_title('Age range VS Number of Polyps')\n",
    "ax.legend(hb1, [\"0 - 24\", \"25 - 49\", \"50 - 74\", \"Above 74\"])\n",
    "for index, value in enumerate(polyp_counts):\n",
    "    ax.text(value+1, index, str(value), fontsize=12)\n",
    "\n",
    "plt.show()"
   ]
  },
  {
   "cell_type": "markdown",
   "id": "468797eb",
   "metadata": {},
   "source": [
    "### 1.2 Age ranges vs number of patients"
   ]
  },
  {
   "cell_type": "code",
   "execution_count": 40,
   "id": "a4add727",
   "metadata": {},
   "outputs": [
    {
     "data": {
      "text/plain": [
       "(201,\n",
       " ['patient1', 'patient2', 'patient3', 'patient4', 'patient5'],\n",
       " 201,\n",
       " [53.0, 49.0, 70.0, 57.0, 65.0])"
      ]
     },
     "execution_count": 40,
     "metadata": {},
     "output_type": "execute_result"
    }
   ],
   "source": [
    "patients = list(df.Patient)\n",
    "\n",
    "def unique(list1):\n",
    "    patients_ages = []\n",
    "    unique_list = []\n",
    "    for i in range(len(list1)):\n",
    "        if list1[i] not in unique_list:\n",
    "            unique_list.append(list1[i])\n",
    "            patients_ages.append(Ages[i])\n",
    "    return unique_list, patients_ages\n",
    "\n",
    "[unique_patients, unique_ages] = unique(patients)\n",
    "len(unique_patients), unique_patients[:5], len(unique_ages), unique_ages[:5]\n"
   ]
  },
  {
   "cell_type": "code",
   "execution_count": 41,
   "id": "e7e0d6fb",
   "metadata": {},
   "outputs": [
    {
     "name": "stdout",
     "output_type": "stream",
     "text": [
      "There are 201 patient data corresponding to 201 ages, but only 56 unique ages\n"
     ]
    }
   ],
   "source": [
    "print(f\"There are {len(unique_patients)} patient data corresponding to {len(unique_ages)} ages, but only {len(set(unique_ages))} unique ages\")"
   ]
  },
  {
   "cell_type": "code",
   "execution_count": 44,
   "id": "ceb25d2d",
   "metadata": {},
   "outputs": [
    {
     "data": {
      "text/plain": [
       "(3, 24, 139, 35)"
      ]
     },
     "execution_count": 44,
     "metadata": {},
     "output_type": "execute_result"
    }
   ],
   "source": [
    "unique_young = []\n",
    "unique_adult = []\n",
    "unique_old = []\n",
    "unique_very_old = []\n",
    "for age in unique_ages:\n",
    "    if age < 25:\n",
    "        unique_young.append(age)\n",
    "    elif age >= 25 and age < 50:\n",
    "        unique_adult.append(age)\n",
    "    elif age >= 50 and age < 75:\n",
    "        unique_old.append(age)\n",
    "    else:\n",
    "        unique_very_old.append(age)\n",
    "len(unique_young), len(unique_adult), len(unique_old), len(unique_very_old)"
   ]
  },
  {
   "cell_type": "code",
   "execution_count": 141,
   "id": "951d1321",
   "metadata": {},
   "outputs": [
    {
     "data": {
      "image/png": "[encoded data removed]",
      "text/plain": [
       "<Figure size 1000x500 with 1 Axes>"
      ]
     },
     "metadata": {},
     "output_type": "display_data"
    }
   ],
   "source": [
    "plt.rcdefaults()\n",
    "fig, ax = plt.subplots(figsize=(10, 5))\n",
    "\n",
    "age_groups = ('Young', 'Adult', 'Old', 'Very Old')\n",
    "groups = list(age_groups)\n",
    "patients_count = [3, 24, 139, 35]\n",
    "colors = (\"blue\", \"cyan\", \"red\", \"orange\")\n",
    "hb2 = ax.barh(age_groups, patients_count,  color=colors )\n",
    "ax.set_xlabel('Number of Patients')\n",
    "ax.set_title('Age range VS Number of Patients')\n",
    "ax.legend(hb2, [\"0 - 24\", \"25 - 49\", \"50 - 74\", \"75 and above\"])\n",
    "for index, value in enumerate(patients_count):\n",
    "    ax.text(value+1, index, str(value), fontsize=12)\n",
    "\n",
    "plt.show()"
   ]
  },
  {
   "cell_type": "markdown",
   "id": "692ec534",
   "metadata": {},
   "source": [
    "## 1.3 Age ranges vs type"
   ]
  },
  {
   "cell_type": "code",
   "execution_count": 144,
   "id": "be598e08",
   "metadata": {},
   "outputs": [
    {
     "data": {
      "text/plain": [
       "[53.0, 53.0, 53.0, 49.0, 49.0, 70.0, 57.0, 65.0, 65.0, 65.0]"
      ]
     },
     "execution_count": 144,
     "metadata": {},
     "output_type": "execute_result"
    }
   ],
   "source": [
    "Ages[:5], young[:5], "
   ]
  },
  {
   "cell_type": "code",
   "execution_count": 145,
   "id": "83c86762",
   "metadata": {},
   "outputs": [
    {
     "data": {
      "text/plain": [
       "(3, 57)"
      ]
     },
     "execution_count": 145,
     "metadata": {},
     "output_type": "execute_result"
    }
   ],
   "source": [
    "types = list(df.Type)\n",
    "young_types = []\n",
    "adult_types = []\n",
    "old_types = []\n",
    "very_old_types = []\n",
    "\n",
    "for i in range(len(Ages)):\n",
    "    if Ages[i] in young:\n",
    "        young_types.append(types[i])\n",
    "    elif Ages[i] in adult:\n",
    "        adult_types.append(types[i])\n",
    "    elif Ages[i] in old:\n",
    "        old_types.append(types[i])\n",
    "    else:\n",
    "        very_old_types.append(types[i])\n",
    "        \n",
    "\n",
    "len(young_types), len(adult_types)\n",
    "        "
   ]
  },
  {
   "cell_type": "code",
   "execution_count": 158,
   "id": "6de53908",
   "metadata": {},
   "outputs": [
    {
     "data": {
      "text/plain": [
       "({'nonneoplastic': 1, 'neoplastic': 2},\n",
       " {'nonneoplastic': 15, 'neoplastic': 26, 'normal': 14, 'carcinom': 2},\n",
       " {'nonneoplastic': 85, 'neoplastic': 135, 'carcinom': 10, 'normal': 48},\n",
       " {'neoplastic': 34, 'nonneoplastic': 13, 'normal': 12, 'carcinom': 2})"
      ]
     },
     "execution_count": 158,
     "metadata": {},
     "output_type": "execute_result"
    }
   ],
   "source": [
    "from collections import Counter\n",
    "\n",
    "young_types_dict = {**Counter(young_types)}\n",
    "adult_types_dict = {**Counter(adult_types)}\n",
    "old_types_dict = {**Counter(old_types)}\n",
    "very_old_types_dict = {**Counter(very_old_types)}\n",
    "\n",
    "young_types_dict, adult_types_dict, old_types_dict, very_old_types_dict"
   ]
  },
  {
   "cell_type": "code",
   "execution_count": 159,
   "id": "cb7dbd01",
   "metadata": {},
   "outputs": [
    {
     "data": {
      "text/plain": [
       "['Young', 'Adult', 'Old', 'Very Old']"
      ]
     },
     "execution_count": 159,
     "metadata": {},
     "output_type": "execute_result"
    }
   ],
   "source": [
    "groups"
   ]
  },
  {
   "cell_type": "code",
   "execution_count": 175,
   "id": "65392b61",
   "metadata": {},
   "outputs": [
    {
     "data": {
      "image/png": "[encoded data removed]",
      "text/plain": [
       "<Figure size 500x1000 with 1 Axes>"
      ]
     },
     "metadata": {},
     "output_type": "display_data"
    }
   ],
   "source": [
    "type_names = [\"normal\", \"carcinom\", \"nonneoplastic\", \"neoplastic\"]\n",
    "y1 = np.array([0, 14, 48, 12])    # normal for all age groups\n",
    "y2 = np.array([0, 2, 10, 2])      # carcinom for all age groups\n",
    "y3 = np.array([1, 15, 85, 13])    # nonneoplastic for all age groups\n",
    "y4 = np.array([2, 26, 135, 34])  # neoplastic for all age groups\n",
    "\n",
    "plt.figure(figsize=(5, 10))\n",
    "plt.bar(groups, y1, color='b')\n",
    "plt.bar(groups, y2, bottom=y1, color='y')\n",
    "plt.bar(groups, y3, bottom=y1+y2, color='r')\n",
    "plt.bar(groups, y4, bottom=y1+y2+y3, color='g')\n",
    "plt.legend(type_names)\n",
    "plt.xlabel(\"Age Groups\")\n",
    "plt.ylabel(\"Number of Polyps Types\")\n",
    "plt.title(\"Age Range VS Polyp Types\")\n",
    "plt.show()\n"
   ]
  },
  {
   "cell_type": "code",
   "execution_count": null,
   "id": "f8fbad2e",
   "metadata": {},
   "outputs": [],
   "source": [
    "plt.xlabel(\"Teams\")\n",
    "plt.ylabel(\"Score\")"
   ]
  }
 ],
 "metadata": {
  "kernelspec": {
   "display_name": "Python 3 (ipykernel)",
   "language": "python",
   "name": "python3"
  },
  "language_info": {
   "codemirror_mode": {
    "name": "ipython",
    "version": 3
   },
   "file_extension": ".py",
   "mimetype": "text/x-python",
   "name": "python",
   "nbconvert_exporter": "python",
   "pygments_lexer": "ipython3",
   "version": "3.10.6"
  }
 },
 "nbformat": 4,
 "nbformat_minor": 5
}
